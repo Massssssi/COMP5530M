{
 "cells": [
  {
   "cell_type": "markdown",
   "metadata": {},
   "source": [
    "# Training and Testing a Generative Adversarial Network"
   ]
  },
  {
   "cell_type": "markdown",
   "metadata": {},
   "source": [
    "## Imports and loading in dataset"
   ]
  },
  {
   "cell_type": "code",
   "execution_count": 10,
   "metadata": {},
   "outputs": [
    {
     "name": "stdout",
     "output_type": "stream",
     "text": [
      "       2239500  100  2231800  100.1\n",
      "0      2239500  100  2238100     21\n",
      "1      2239500  100  2237500    100\n",
      "2      2239500  100  2237500     74\n",
      "3      2239500  100  2237500     74\n",
      "4      2239500  100  2237500     74\n",
      "...        ...  ...      ...    ...\n",
      "57509  2206200  100  2205100    300\n",
      "57510  2206200  100  2205100    249\n",
      "57511  2206400  100  2205100    249\n",
      "57512  2206300  100  2205100    249\n",
      "57513  2206400  100  2205100    249\n",
      "\n",
      "[57514 rows x 4 columns]\n"
     ]
    }
   ],
   "source": [
    "import tensorflow as tf\n",
    "from tensorflow.keras import layers, models\n",
    "import pandas as pd\n",
    "import numpy as np\n",
    "from sklearn.preprocessing import MinMaxScaler\n",
    "\n",
    "file_path = \"./Datasets/AMZN_2012-06-21_34200000_57600000_orderbook_1.csv\"\n",
    "data = pd.read_csv(file_path)\n"
   ]
  },
  {
   "cell_type": "markdown",
   "metadata": {},
   "source": [
    "## Preprocessing the data"
   ]
  },
  {
   "cell_type": "code",
   "execution_count": 8,
   "metadata": {},
   "outputs": [
    {
     "name": "stdout",
     "output_type": "stream",
     "text": [
      "[[ 0.24137931 -0.96525706  0.19782214 -0.99882246]\n",
      " [ 0.24137931 -0.96525706  0.17604356 -0.99417116]\n",
      " [ 0.24137931 -0.96525706  0.17604356 -0.99570196]\n",
      " ...\n",
      " [-0.9600726  -0.96525706 -1.         -0.98539845]\n",
      " [-0.96370236 -0.96525706 -1.         -0.98539845]\n",
      " [-0.9600726  -0.96525706 -1.         -0.98539845]]\n"
     ]
    }
   ],
   "source": [
    "def preprocess_data(data):\n",
    "    scaler = MinMaxScaler(feature_range=(-1, 1))\n",
    "    scaled_data = scaler.fit_transform(data.values)\n",
    "    return scaled_data\n",
    "\n",
    "scaled_data = preprocess_data(data=data)\n",
    "print(scaled_data)\n",
    "    "
   ]
  },
  {
   "cell_type": "markdown",
   "metadata": {},
   "source": [
    "## Functions to build the training architecture\n",
    "### Generator"
   ]
  },
  {
   "cell_type": "code",
   "execution_count": null,
   "metadata": {},
   "outputs": [],
   "source": []
  },
  {
   "cell_type": "markdown",
   "metadata": {},
   "source": [
    "### Discriminator"
   ]
  },
  {
   "cell_type": "code",
   "execution_count": null,
   "metadata": {},
   "outputs": [],
   "source": []
  }
 ],
 "metadata": {
  "kernelspec": {
   "display_name": "venv-metal",
   "language": "python",
   "name": "python3"
  },
  "language_info": {
   "codemirror_mode": {
    "name": "ipython",
    "version": 3
   },
   "file_extension": ".py",
   "mimetype": "text/x-python",
   "name": "python",
   "nbconvert_exporter": "python",
   "pygments_lexer": "ipython3",
   "version": "3.10.9"
  }
 },
 "nbformat": 4,
 "nbformat_minor": 2
}
